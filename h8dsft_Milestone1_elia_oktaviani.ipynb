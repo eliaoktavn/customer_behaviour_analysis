{
 "cells": [
  {
   "cell_type": "markdown",
   "metadata": {},
   "source": [
    "====================================================================\n",
    "\n",
    "Nama : Elia Oktaviani\n",
    "\n",
    "Batch: RMT 028\n",
    "\n",
    "===================================================================="
   ]
  },
  {
   "cell_type": "markdown",
   "metadata": {},
   "source": [
    "Link Dashboard:\n",
    "\n",
    "https://public.tableau.com/app/profile/elia.oktaviani/viz/Milestone1EliaOktaviani/Dashboard1?publish=yes"
   ]
  },
  {
   "cell_type": "markdown",
   "metadata": {},
   "source": [
    "# TOPIK PERMASALAHAN\n",
    "\n",
    "LATAR BELAKANG\n",
    "\n",
    "Sebagai salah satu data analis yang bergerak pada sektor industri dan retail. Saya menjalankan tugas bersama tim marketing untuk mengetahui preferensi dan perilaku dari customer, dalam rangka membuat plan marketing yang lebih efektif sehingga dapat meningkatkan jumlah pelanggan. Untuk mencapai hal tersebut, adapun kita harus melakukan kajian data pada tahun 2018 hingga 2020 agar kita mendapat gambaran tentang pola peak pembelian di tiap musim, preferensi cara berbelanja hingga efek diskon terhadap pembelian produk.\n",
    "\n",
    "SMART\n",
    "\n",
    "Specific\t: meningkatkan retention rate dengan menerapkan strategi marketing yang \tlebih terfokus.\n",
    "\n",
    "Measurable\t: Adanya peningkatan  retention rate hingga 90% \n",
    "\n",
    "Achievable\t: Analisis faktor yang mempengaruhi penjualan produk dan preferensi customer dalam membeli produk.\n",
    "\n",
    "Relevant\t: Menerapkan diskon di waktu yang tepat agar menghasilkan impact yang besar untuk menarik customer \n",
    "\n",
    "Time bound\t: Dihasilkan retention rate 90% dalam waktu 1 tahun..\n",
    "\n",
    "\n",
    "PROBLEM STATEMENT\n",
    "\n",
    "Meningkatkan retention rate dengan mempertimbangkan Preferensi dan Perilaku Pembeli di Amerika Serikat pada tahun 2018 hingga 2020.\n",
    "\n",
    "Penjabaran masalah dengan metode 5W+1H:\n",
    "\n",
    "1. (retention rate) berapakah retention rate pada jumlah pembeli di amerika serikat\n",
    "\n",
    "2. (Churn rate, visual pelanggan awal dan pelanggan akhir) Berapa banyak customer yang bertahan berlangganan membeli produk pada akhir 2020? (churn rate dari customer id)\n",
    "\n",
    "3. (visualisasi waktu vs order quantity) Apakah ada bulan atau season tertentu yang mengalami kenaikan pembelian barang di amerika serikat\n",
    "\n",
    "\n",
    "4. (Visualisasi Sum of OrderID vs year dan SUM of Order quantity  vs year ) Channel manakah yang memiliki jumlah penjualan paling tinggi per tahunnya?\n",
    "\n",
    "5. (deskriptif) Berapakah harga rata-rata per unit produk yang dibeli dalam satu kali transasksi\n",
    "\n",
    "6. (INFERENS max and min confidence level) Berapakah penjualan maksimal dan minimal pada channel in-store secara keseluruhan\n",
    "\n",
    "7. (korelasi, deskriptif, diskon vs order quantity) Bagaimana perilaku konsumen terhadap pembelian barang yang memiliki diskon?\n",
    "\n",
    "\n",
    "\n"
   ]
  },
  {
   "cell_type": "markdown",
   "metadata": {},
   "source": [
    "LOADING DATA\n",
    "\n",
    "SUMBER DATA:\n",
    "\n",
    "https://www.kaggle.com/datasets/talhabu/us-regional-sales-data/data"
   ]
  },
  {
   "cell_type": "code",
   "execution_count": 21,
   "metadata": {},
   "outputs": [],
   "source": [
    "#import package\n",
    "import pandas as pd\n",
    "import matplotlib.pyplot as plt\n",
    "from math import sqrt\n",
    "from scipy import stats\n",
    "import seaborn as sns"
   ]
  },
  {
   "cell_type": "code",
   "execution_count": 5,
   "metadata": {},
   "outputs": [
    {
     "data": {
      "text/html": [
       "<div>\n",
       "<style scoped>\n",
       "    .dataframe tbody tr th:only-of-type {\n",
       "        vertical-align: middle;\n",
       "    }\n",
       "\n",
       "    .dataframe tbody tr th {\n",
       "        vertical-align: top;\n",
       "    }\n",
       "\n",
       "    .dataframe thead th {\n",
       "        text-align: right;\n",
       "    }\n",
       "</style>\n",
       "<table border=\"1\" class=\"dataframe\">\n",
       "  <thead>\n",
       "    <tr style=\"text-align: right;\">\n",
       "      <th></th>\n",
       "      <th>OrderNumber</th>\n",
       "      <th>Sales Channel</th>\n",
       "      <th>WarehouseCode</th>\n",
       "      <th>ProcuredDate</th>\n",
       "      <th>OrderDate</th>\n",
       "      <th>ShipDate</th>\n",
       "      <th>DeliveryDate</th>\n",
       "      <th>CurrencyCode</th>\n",
       "      <th>_SalesTeamID</th>\n",
       "      <th>_CustomerID</th>\n",
       "      <th>_StoreID</th>\n",
       "      <th>_ProductID</th>\n",
       "      <th>Order Quantity</th>\n",
       "      <th>Discount Applied</th>\n",
       "      <th>Unit Cost</th>\n",
       "      <th>Unit Price</th>\n",
       "    </tr>\n",
       "  </thead>\n",
       "  <tbody>\n",
       "    <tr>\n",
       "      <th>0</th>\n",
       "      <td>SO - 000101</td>\n",
       "      <td>In-Store</td>\n",
       "      <td>WARE-UHY1004</td>\n",
       "      <td>31/12/17</td>\n",
       "      <td>31/5/18</td>\n",
       "      <td>14/6/18</td>\n",
       "      <td>19/6/18</td>\n",
       "      <td>USD</td>\n",
       "      <td>6</td>\n",
       "      <td>15</td>\n",
       "      <td>259</td>\n",
       "      <td>12</td>\n",
       "      <td>5</td>\n",
       "      <td>0.075</td>\n",
       "      <td>1,001.18</td>\n",
       "      <td>1,963.10</td>\n",
       "    </tr>\n",
       "    <tr>\n",
       "      <th>1</th>\n",
       "      <td>SO - 000102</td>\n",
       "      <td>Online</td>\n",
       "      <td>WARE-NMK1003</td>\n",
       "      <td>31/12/17</td>\n",
       "      <td>31/5/18</td>\n",
       "      <td>22/6/18</td>\n",
       "      <td>2/7/18</td>\n",
       "      <td>USD</td>\n",
       "      <td>14</td>\n",
       "      <td>20</td>\n",
       "      <td>196</td>\n",
       "      <td>27</td>\n",
       "      <td>3</td>\n",
       "      <td>0.075</td>\n",
       "      <td>3,348.66</td>\n",
       "      <td>3,939.60</td>\n",
       "    </tr>\n",
       "    <tr>\n",
       "      <th>2</th>\n",
       "      <td>SO - 000103</td>\n",
       "      <td>Distributor</td>\n",
       "      <td>WARE-UHY1004</td>\n",
       "      <td>31/12/17</td>\n",
       "      <td>31/5/18</td>\n",
       "      <td>21/6/18</td>\n",
       "      <td>1/7/18</td>\n",
       "      <td>USD</td>\n",
       "      <td>21</td>\n",
       "      <td>16</td>\n",
       "      <td>213</td>\n",
       "      <td>16</td>\n",
       "      <td>1</td>\n",
       "      <td>0.050</td>\n",
       "      <td>781.22</td>\n",
       "      <td>1,775.50</td>\n",
       "    </tr>\n",
       "    <tr>\n",
       "      <th>3</th>\n",
       "      <td>SO - 000104</td>\n",
       "      <td>Wholesale</td>\n",
       "      <td>WARE-NMK1003</td>\n",
       "      <td>31/12/17</td>\n",
       "      <td>31/5/18</td>\n",
       "      <td>2/6/18</td>\n",
       "      <td>7/6/18</td>\n",
       "      <td>USD</td>\n",
       "      <td>28</td>\n",
       "      <td>48</td>\n",
       "      <td>107</td>\n",
       "      <td>23</td>\n",
       "      <td>8</td>\n",
       "      <td>0.075</td>\n",
       "      <td>1,464.69</td>\n",
       "      <td>2,324.90</td>\n",
       "    </tr>\n",
       "    <tr>\n",
       "      <th>4</th>\n",
       "      <td>SO - 000105</td>\n",
       "      <td>Distributor</td>\n",
       "      <td>WARE-NMK1003</td>\n",
       "      <td>10/4/18</td>\n",
       "      <td>31/5/18</td>\n",
       "      <td>16/6/18</td>\n",
       "      <td>26/6/18</td>\n",
       "      <td>USD</td>\n",
       "      <td>22</td>\n",
       "      <td>49</td>\n",
       "      <td>111</td>\n",
       "      <td>26</td>\n",
       "      <td>8</td>\n",
       "      <td>0.100</td>\n",
       "      <td>1,476.14</td>\n",
       "      <td>1,822.40</td>\n",
       "    </tr>\n",
       "  </tbody>\n",
       "</table>\n",
       "</div>"
      ],
      "text/plain": [
       "   OrderNumber Sales Channel WarehouseCode ProcuredDate OrderDate ShipDate  \\\n",
       "0  SO - 000101      In-Store  WARE-UHY1004     31/12/17   31/5/18  14/6/18   \n",
       "1  SO - 000102        Online  WARE-NMK1003     31/12/17   31/5/18  22/6/18   \n",
       "2  SO - 000103   Distributor  WARE-UHY1004     31/12/17   31/5/18  21/6/18   \n",
       "3  SO - 000104     Wholesale  WARE-NMK1003     31/12/17   31/5/18   2/6/18   \n",
       "4  SO - 000105   Distributor  WARE-NMK1003      10/4/18   31/5/18  16/6/18   \n",
       "\n",
       "  DeliveryDate CurrencyCode  _SalesTeamID  _CustomerID  _StoreID  _ProductID  \\\n",
       "0      19/6/18          USD             6           15       259          12   \n",
       "1       2/7/18          USD            14           20       196          27   \n",
       "2       1/7/18          USD            21           16       213          16   \n",
       "3       7/6/18          USD            28           48       107          23   \n",
       "4      26/6/18          USD            22           49       111          26   \n",
       "\n",
       "   Order Quantity  Discount Applied Unit Cost Unit Price  \n",
       "0               5             0.075  1,001.18   1,963.10  \n",
       "1               3             0.075  3,348.66   3,939.60  \n",
       "2               1             0.050    781.22   1,775.50  \n",
       "3               8             0.075  1,464.69   2,324.90  \n",
       "4               8             0.100  1,476.14   1,822.40  "
      ]
     },
     "execution_count": 5,
     "metadata": {},
     "output_type": "execute_result"
    }
   ],
   "source": [
    "#read dataframe 'df' dari file csv US_Regional_Sales_Data.csv\n",
    "df = pd.read_csv(r\"US_Regional_Sales_Data.csv\")\n",
    "\n",
    "#tampilkan 5 baris data teratas\n",
    "df.head()"
   ]
  },
  {
   "cell_type": "code",
   "execution_count": 6,
   "metadata": {},
   "outputs": [
    {
     "data": {
      "text/plain": [
       "OrderNumber         0\n",
       "Sales Channel       0\n",
       "WarehouseCode       0\n",
       "ProcuredDate        0\n",
       "OrderDate           0\n",
       "ShipDate            0\n",
       "DeliveryDate        0\n",
       "CurrencyCode        0\n",
       "_SalesTeamID        0\n",
       "_CustomerID         0\n",
       "_StoreID            0\n",
       "_ProductID          0\n",
       "Order Quantity      0\n",
       "Discount Applied    0\n",
       "Unit Cost           0\n",
       "Unit Price          0\n",
       "dtype: int64"
      ]
     },
     "execution_count": 6,
     "metadata": {},
     "output_type": "execute_result"
    }
   ],
   "source": [
    "#cek banyak data yang kosong (hasilnya, data sudah terisi semua)\n",
    "df.isnull().sum()"
   ]
  },
  {
   "cell_type": "code",
   "execution_count": 7,
   "metadata": {},
   "outputs": [
    {
     "data": {
      "text/plain": [
       "OrderNumber          object\n",
       "Sales Channel        object\n",
       "WarehouseCode        object\n",
       "ProcuredDate         object\n",
       "OrderDate            object\n",
       "ShipDate             object\n",
       "DeliveryDate         object\n",
       "CurrencyCode         object\n",
       "_SalesTeamID          int64\n",
       "_CustomerID           int64\n",
       "_StoreID              int64\n",
       "_ProductID            int64\n",
       "Order Quantity        int64\n",
       "Discount Applied    float64\n",
       "Unit Cost            object\n",
       "Unit Price           object\n",
       "dtype: object"
      ]
     },
     "execution_count": 7,
     "metadata": {},
     "output_type": "execute_result"
    }
   ],
   "source": [
    "#cek tipe data pada setiap kolom\n",
    "df.dtypes"
   ]
  },
  {
   "cell_type": "markdown",
   "metadata": {},
   "source": [
    "DATA CLEANING"
   ]
  },
  {
   "cell_type": "code",
   "execution_count": 8,
   "metadata": {},
   "outputs": [
    {
     "name": "stderr",
     "output_type": "stream",
     "text": [
      "/var/folders/sq/0g7v2j4s5196qrnzglgpzfl00000gn/T/ipykernel_13670/1685582552.py:2: UserWarning: Could not infer format, so each element will be parsed individually, falling back to `dateutil`. To ensure parsing is consistent and as-expected, please specify a format.\n",
      "  df['OrderDate'] = pd.to_datetime(df['OrderDate'])\n"
     ]
    },
    {
     "data": {
      "text/html": [
       "<div>\n",
       "<style scoped>\n",
       "    .dataframe tbody tr th:only-of-type {\n",
       "        vertical-align: middle;\n",
       "    }\n",
       "\n",
       "    .dataframe tbody tr th {\n",
       "        vertical-align: top;\n",
       "    }\n",
       "\n",
       "    .dataframe thead th {\n",
       "        text-align: right;\n",
       "    }\n",
       "</style>\n",
       "<table border=\"1\" class=\"dataframe\">\n",
       "  <thead>\n",
       "    <tr style=\"text-align: right;\">\n",
       "      <th></th>\n",
       "      <th>OrderNumber</th>\n",
       "      <th>Sales Channel</th>\n",
       "      <th>WarehouseCode</th>\n",
       "      <th>OrderDate</th>\n",
       "      <th>CurrencyCode</th>\n",
       "      <th>_CustomerID</th>\n",
       "      <th>_StoreID</th>\n",
       "      <th>_ProductID</th>\n",
       "      <th>Order Quantity</th>\n",
       "      <th>Discount Applied</th>\n",
       "      <th>Unit Cost</th>\n",
       "      <th>Unit Price</th>\n",
       "    </tr>\n",
       "  </thead>\n",
       "  <tbody>\n",
       "    <tr>\n",
       "      <th>0</th>\n",
       "      <td>SO - 000101</td>\n",
       "      <td>In-Store</td>\n",
       "      <td>WARE-UHY1004</td>\n",
       "      <td>2018-05-31</td>\n",
       "      <td>USD</td>\n",
       "      <td>15</td>\n",
       "      <td>259</td>\n",
       "      <td>12</td>\n",
       "      <td>5</td>\n",
       "      <td>0.075</td>\n",
       "      <td>1001.18</td>\n",
       "      <td>1963.1</td>\n",
       "    </tr>\n",
       "    <tr>\n",
       "      <th>1</th>\n",
       "      <td>SO - 000102</td>\n",
       "      <td>Online</td>\n",
       "      <td>WARE-NMK1003</td>\n",
       "      <td>2018-05-31</td>\n",
       "      <td>USD</td>\n",
       "      <td>20</td>\n",
       "      <td>196</td>\n",
       "      <td>27</td>\n",
       "      <td>3</td>\n",
       "      <td>0.075</td>\n",
       "      <td>3348.66</td>\n",
       "      <td>3939.6</td>\n",
       "    </tr>\n",
       "    <tr>\n",
       "      <th>2</th>\n",
       "      <td>SO - 000103</td>\n",
       "      <td>Distributor</td>\n",
       "      <td>WARE-UHY1004</td>\n",
       "      <td>2018-05-31</td>\n",
       "      <td>USD</td>\n",
       "      <td>16</td>\n",
       "      <td>213</td>\n",
       "      <td>16</td>\n",
       "      <td>1</td>\n",
       "      <td>0.050</td>\n",
       "      <td>781.22</td>\n",
       "      <td>1775.5</td>\n",
       "    </tr>\n",
       "    <tr>\n",
       "      <th>3</th>\n",
       "      <td>SO - 000104</td>\n",
       "      <td>Wholesale</td>\n",
       "      <td>WARE-NMK1003</td>\n",
       "      <td>2018-05-31</td>\n",
       "      <td>USD</td>\n",
       "      <td>48</td>\n",
       "      <td>107</td>\n",
       "      <td>23</td>\n",
       "      <td>8</td>\n",
       "      <td>0.075</td>\n",
       "      <td>1464.69</td>\n",
       "      <td>2324.9</td>\n",
       "    </tr>\n",
       "    <tr>\n",
       "      <th>4</th>\n",
       "      <td>SO - 000105</td>\n",
       "      <td>Distributor</td>\n",
       "      <td>WARE-NMK1003</td>\n",
       "      <td>2018-05-31</td>\n",
       "      <td>USD</td>\n",
       "      <td>49</td>\n",
       "      <td>111</td>\n",
       "      <td>26</td>\n",
       "      <td>8</td>\n",
       "      <td>0.100</td>\n",
       "      <td>1476.14</td>\n",
       "      <td>1822.4</td>\n",
       "    </tr>\n",
       "    <tr>\n",
       "      <th>...</th>\n",
       "      <td>...</td>\n",
       "      <td>...</td>\n",
       "      <td>...</td>\n",
       "      <td>...</td>\n",
       "      <td>...</td>\n",
       "      <td>...</td>\n",
       "      <td>...</td>\n",
       "      <td>...</td>\n",
       "      <td>...</td>\n",
       "      <td>...</td>\n",
       "      <td>...</td>\n",
       "      <td>...</td>\n",
       "    </tr>\n",
       "    <tr>\n",
       "      <th>7986</th>\n",
       "      <td>SO - 0008087</td>\n",
       "      <td>In-Store</td>\n",
       "      <td>WARE-MKL1006</td>\n",
       "      <td>2020-12-30</td>\n",
       "      <td>USD</td>\n",
       "      <td>41</td>\n",
       "      <td>339</td>\n",
       "      <td>29</td>\n",
       "      <td>1</td>\n",
       "      <td>0.075</td>\n",
       "      <td>121.94</td>\n",
       "      <td>234.5</td>\n",
       "    </tr>\n",
       "    <tr>\n",
       "      <th>7987</th>\n",
       "      <td>SO - 0008088</td>\n",
       "      <td>Online</td>\n",
       "      <td>WARE-NMK1003</td>\n",
       "      <td>2020-12-30</td>\n",
       "      <td>USD</td>\n",
       "      <td>29</td>\n",
       "      <td>202</td>\n",
       "      <td>3</td>\n",
       "      <td>6</td>\n",
       "      <td>0.050</td>\n",
       "      <td>1921.56</td>\n",
       "      <td>3202.6</td>\n",
       "    </tr>\n",
       "    <tr>\n",
       "      <th>7988</th>\n",
       "      <td>SO - 0008089</td>\n",
       "      <td>Online</td>\n",
       "      <td>WARE-UHY1004</td>\n",
       "      <td>2020-12-30</td>\n",
       "      <td>USD</td>\n",
       "      <td>32</td>\n",
       "      <td>241</td>\n",
       "      <td>35</td>\n",
       "      <td>5</td>\n",
       "      <td>0.200</td>\n",
       "      <td>2792.76</td>\n",
       "      <td>3825.7</td>\n",
       "    </tr>\n",
       "    <tr>\n",
       "      <th>7989</th>\n",
       "      <td>SO - 0008090</td>\n",
       "      <td>Online</td>\n",
       "      <td>WARE-NMK1003</td>\n",
       "      <td>2020-12-30</td>\n",
       "      <td>USD</td>\n",
       "      <td>42</td>\n",
       "      <td>112</td>\n",
       "      <td>36</td>\n",
       "      <td>8</td>\n",
       "      <td>0.100</td>\n",
       "      <td>804.00</td>\n",
       "      <td>1072.0</td>\n",
       "    </tr>\n",
       "    <tr>\n",
       "      <th>7990</th>\n",
       "      <td>SO - 0008091</td>\n",
       "      <td>In-Store</td>\n",
       "      <td>WARE-UHY1004</td>\n",
       "      <td>2020-12-30</td>\n",
       "      <td>USD</td>\n",
       "      <td>41</td>\n",
       "      <td>237</td>\n",
       "      <td>43</td>\n",
       "      <td>5</td>\n",
       "      <td>0.075</td>\n",
       "      <td>1370.82</td>\n",
       "      <td>2211.0</td>\n",
       "    </tr>\n",
       "  </tbody>\n",
       "</table>\n",
       "<p>7991 rows × 12 columns</p>\n",
       "</div>"
      ],
      "text/plain": [
       "       OrderNumber Sales Channel WarehouseCode  OrderDate CurrencyCode  \\\n",
       "0      SO - 000101      In-Store  WARE-UHY1004 2018-05-31          USD   \n",
       "1      SO - 000102        Online  WARE-NMK1003 2018-05-31          USD   \n",
       "2      SO - 000103   Distributor  WARE-UHY1004 2018-05-31          USD   \n",
       "3      SO - 000104     Wholesale  WARE-NMK1003 2018-05-31          USD   \n",
       "4      SO - 000105   Distributor  WARE-NMK1003 2018-05-31          USD   \n",
       "...            ...           ...           ...        ...          ...   \n",
       "7986  SO - 0008087      In-Store  WARE-MKL1006 2020-12-30          USD   \n",
       "7987  SO - 0008088        Online  WARE-NMK1003 2020-12-30          USD   \n",
       "7988  SO - 0008089        Online  WARE-UHY1004 2020-12-30          USD   \n",
       "7989  SO - 0008090        Online  WARE-NMK1003 2020-12-30          USD   \n",
       "7990  SO - 0008091      In-Store  WARE-UHY1004 2020-12-30          USD   \n",
       "\n",
       "      _CustomerID  _StoreID  _ProductID  Order Quantity  Discount Applied  \\\n",
       "0              15       259          12               5             0.075   \n",
       "1              20       196          27               3             0.075   \n",
       "2              16       213          16               1             0.050   \n",
       "3              48       107          23               8             0.075   \n",
       "4              49       111          26               8             0.100   \n",
       "...           ...       ...         ...             ...               ...   \n",
       "7986           41       339          29               1             0.075   \n",
       "7987           29       202           3               6             0.050   \n",
       "7988           32       241          35               5             0.200   \n",
       "7989           42       112          36               8             0.100   \n",
       "7990           41       237          43               5             0.075   \n",
       "\n",
       "      Unit Cost  Unit Price  \n",
       "0       1001.18      1963.1  \n",
       "1       3348.66      3939.6  \n",
       "2        781.22      1775.5  \n",
       "3       1464.69      2324.9  \n",
       "4       1476.14      1822.4  \n",
       "...         ...         ...  \n",
       "7986     121.94       234.5  \n",
       "7987    1921.56      3202.6  \n",
       "7988    2792.76      3825.7  \n",
       "7989     804.00      1072.0  \n",
       "7990    1370.82      2211.0  \n",
       "\n",
       "[7991 rows x 12 columns]"
      ]
     },
     "execution_count": 8,
     "metadata": {},
     "output_type": "execute_result"
    }
   ],
   "source": [
    "#ubah tipe data Order Date jadi datetime\n",
    "df['OrderDate'] = pd.to_datetime(df['OrderDate'])\n",
    "\n",
    "#drop data yang tidak diperlukan\n",
    "df = df.drop('ProcuredDate', axis=1)\n",
    "df = df.drop('ShipDate', axis=1)\n",
    "df = df.drop('DeliveryDate', axis=1)\n",
    "df = df.drop('_SalesTeamID', axis=1)\n",
    "\n",
    "#data clenaing\n",
    "df[\"Unit Price\"] = df[\"Unit Price\"].str.replace(',','').astype(float)\n",
    "df[\"Unit Cost\"] =  df[\"Unit Cost\"].str.replace(',','').astype(float)\n",
    "df"
   ]
  },
  {
   "cell_type": "code",
   "execution_count": 9,
   "metadata": {},
   "outputs": [
    {
     "data": {
      "text/plain": [
       "OrderNumber                 object\n",
       "Sales Channel               object\n",
       "WarehouseCode               object\n",
       "OrderDate           datetime64[ns]\n",
       "CurrencyCode                object\n",
       "_CustomerID                  int64\n",
       "_StoreID                     int64\n",
       "_ProductID                   int64\n",
       "Order Quantity               int64\n",
       "Discount Applied           float64\n",
       "Unit Cost                  float64\n",
       "Unit Price                 float64\n",
       "dtype: object"
      ]
     },
     "execution_count": 9,
     "metadata": {},
     "output_type": "execute_result"
    }
   ],
   "source": [
    "#cek tipe data setiap kolom\n",
    "df.dtypes"
   ]
  },
  {
   "cell_type": "markdown",
   "metadata": {},
   "source": [
    "ANALISIS DAN PERHITUNGAN"
   ]
  },
  {
   "cell_type": "markdown",
   "metadata": {},
   "source": [
    "Pada analisis ini akan dimulai dari melihat apakah pelanggan kita tetap loyal untuk membeli produk kita selama rentang 2018 hingga 2020"
   ]
  },
  {
   "cell_type": "code",
   "execution_count": 10,
   "metadata": {},
   "outputs": [
    {
     "data": {
      "text/plain": [
       "array([2018, 2019, 2020], dtype=int32)"
      ]
     },
     "execution_count": 10,
     "metadata": {},
     "output_type": "execute_result"
    }
   ],
   "source": [
    "#select data unik tahun\n",
    "df['OrderDate'].dt.year.unique()"
   ]
  },
  {
   "cell_type": "markdown",
   "metadata": {},
   "source": [
    "Pada tahap awal kita lihat dulu apakah benar data yang akan kita olah berasal dari tahun 2018 hingga 2020. Dan output terbukti benar"
   ]
  },
  {
   "cell_type": "code",
   "execution_count": 24,
   "metadata": {},
   "outputs": [
    {
     "data": {
      "text/plain": [
       "50"
      ]
     },
     "execution_count": 24,
     "metadata": {},
     "output_type": "execute_result"
    }
   ],
   "source": [
    "# list old customers\n",
    "filtered_df = df[(df['OrderDate'].dt.year == 2018) | (df['OrderDate'].dt.year == 2019)]\n",
    "list_old_customer = filtered_df['_CustomerID'].unique()\n",
    "list_old_customer\n",
    "len(list_old_customer)"
   ]
  },
  {
   "cell_type": "markdown",
   "metadata": {},
   "source": [
    "Untuk list customer lama, diambil data customer yang melakukan transaksi pada tahun 2018 dan 2019"
   ]
  },
  {
   "cell_type": "code",
   "execution_count": 25,
   "metadata": {},
   "outputs": [
    {
     "data": {
      "text/plain": [
       "50"
      ]
     },
     "execution_count": 25,
     "metadata": {},
     "output_type": "execute_result"
    }
   ],
   "source": [
    "# list new customer\n",
    "filtered_df = df[(df['OrderDate'].dt.year == 2020)]\n",
    "list_2020_customer = filtered_df['_CustomerID'].unique()\n",
    "list_2020_customer\n",
    "len(list_2020_customer)"
   ]
  },
  {
   "cell_type": "markdown",
   "metadata": {},
   "source": [
    "Untuk list customer baru, diambil data customer yang melakukan transaksi pada tahun 2020"
   ]
  },
  {
   "cell_type": "code",
   "execution_count": 27,
   "metadata": {},
   "outputs": [
    {
     "data": {
      "text/plain": [
       "[]"
      ]
     },
     "execution_count": 27,
     "metadata": {},
     "output_type": "execute_result"
    }
   ],
   "source": [
    "# list new customer in 2020\n",
    "new_customer = []\n",
    "\n",
    "for customer in list_old_customer:\n",
    "    if customer in list_2020_customer:\n",
    "        continue\n",
    "    else:\n",
    "        new_cutomer.append(customer)\n",
    "\n",
    "new_customer"
   ]
  },
  {
   "cell_type": "markdown",
   "metadata": {},
   "source": [
    "Untuk mencari list customer  baru dilakukan looping untuk memasukan id customer yang belum ada pada data customer lama. Hasilnya tidak ada customer baru. Dengan informasi ini didapatkan bahwa pada tahun 2020 tim marketing belum berhasil menambah customer baru"
   ]
  },
  {
   "cell_type": "code",
   "execution_count": 28,
   "metadata": {},
   "outputs": [
    {
     "name": "stdout",
     "output_type": "stream",
     "text": [
      "100.0 %\n"
     ]
    }
   ],
   "source": [
    "# retention rate\n",
    "retention_rate = (len(list_2020_customer) - len(new_customer))/len(list_old_customer) * 100\n",
    "print(retention_rate, \"%\")"
   ]
  },
  {
   "cell_type": "markdown",
   "metadata": {},
   "source": [
    "Dengan data tersebut dapat diolah menjadi retention rate, dan diapat nilai 100%. Berarti customer perusahaan adalah customer yang loyal dan setia pada produk yang kami tawarkan. Retention rate sudah berhasil di atas 90%. Dan perlu dipertahan kan nilai 100 tersebut."
   ]
  },
  {
   "cell_type": "code",
   "execution_count": 29,
   "metadata": {},
   "outputs": [
    {
     "name": "stdout",
     "output_type": "stream",
     "text": [
      "0.0\n"
     ]
    }
   ],
   "source": [
    "# churn rate\n",
    "churn_rate = (len(list_2020_customer) - len(list_old_customer))/len(list_old_customer)\n",
    "\n",
    "print(churn_rate)"
   ]
  },
  {
   "cell_type": "markdown",
   "metadata": {},
   "source": [
    "Dari pengolahan dat achurn rate juga didapat angka nol, menandakan bahwa pelanggan perusahaan tetap setia dan tidak ada yang berhenti berlangganan."
   ]
  },
  {
   "cell_type": "code",
   "execution_count": 57,
   "metadata": {},
   "outputs": [
    {
     "data": {
      "image/png": "[encoded data removed]",
      "text/plain": [
       "<Figure size 640x480 with 1 Axes>"
      ]
     },
     "metadata": {},
     "output_type": "display_data"
    }
   ],
   "source": [
    "#visualisasi waktu VS sum of order quantity\n",
    "df['Month'] = df['OrderDate'].dt.month\n",
    "sum_order_quantity_monthly = df.groupby('Month')['Order Quantity'].sum()\n",
    "plt.plot(sum_order_quantity_monthly.index.astype(str), sum_order_quantity_monthly.values)\n",
    "plt.title('Jumlah penjualan perbulan')\n",
    "plt.xlabel('Bulan')\n",
    "plt.ylabel('Penjualan')\n",
    "plt.show()\n"
   ]
  },
  {
   "cell_type": "markdown",
   "metadata": {},
   "source": [
    "Selanjutnya untuk mengetahui perilaku konsumen, kita mengumpulkan banyaknya penjualan setiap bulannya maka kita bisa melihat pola bahwa:\n",
    "- secara keseluruhan penjualan meningkat dari kondisi awal ke akhir\n",
    "- penjualan cenderung rendah pada kuarter 1 dan kemudian mulai meningkat pada kuarter ke 2 dan selanjutnya\n",
    "- customer paling banyak membeli produk kita pada waktu akhir tahun"
   ]
  },
  {
   "cell_type": "code",
   "execution_count": 30,
   "metadata": {},
   "outputs": [
    {
     "data": {
      "image/png": "[encoded data removed]",
      "text/plain": [
       "<Figure size 640x480 with 1 Axes>"
      ]
     },
     "metadata": {},
     "output_type": "display_data"
    }
   ],
   "source": [
    "df['Year'] = df['OrderDate'].dt.year\n",
    "data = df.groupby(['Sales Channel', 'Year'])['OrderNumber'].count().unstack()\n",
    "\n",
    "data.plot(kind='bar')\n",
    "plt.title('Jumlah Transaksi per tahun dan per channel')\n",
    "plt.xlabel('Tahun')\n",
    "plt.ylabel('Transaksi')\n",
    "plt.tight_layout()\n",
    "plt.show()"
   ]
  },
  {
   "cell_type": "markdown",
   "metadata": {},
   "source": [
    "Dari data tersebut kita dapat melihat bahwa transasksi terbanyak tiap tahunnya ada pada channet In-store. Hal tersebut menunjukan bahwa customer kita lebih suka untuk berbelanja langsung di toko dibandingkan memlalui distributor, online maupun wholesale. Hal ini dapat dipengaruhi faktor experience berbelanja, rekomendasi tim sales yang bertugas, tidak adanya waktu jeda untuk pengiriman barang dan jaminan kualitas barang di Toko. \n"
   ]
  },
  {
   "cell_type": "code",
   "execution_count": 59,
   "metadata": {},
   "outputs": [
    {
     "data": {
      "image/png": "[encoded data removed]",
      "text/plain": [
       "<Figure size 640x480 with 1 Axes>"
      ]
     },
     "metadata": {},
     "output_type": "display_data"
    }
   ],
   "source": [
    "df['Year'] = df['OrderDate'].dt.year\n",
    "data = df.groupby(['Sales Channel', 'Year'])['Order Quantity'].sum().unstack()\n",
    "\n",
    "data.plot(kind='bar')\n",
    "plt.title('Jumlah penjualan per tahun dan per channel')\n",
    "plt.xlabel('Tahun')\n",
    "plt.ylabel('Penjualan')\n",
    "plt.tight_layout()\n",
    "plt.show()"
   ]
  },
  {
   "cell_type": "markdown",
   "metadata": {},
   "source": [
    "Dari grafik juga dapat dilihat bahwa customer cenderung membeli lebih banyak barang pada channel in store, mendukung statement bawhwa customer lebih merasa terjamin atas kualitas produknya jika melihat langsung ke toko"
   ]
  },
  {
   "cell_type": "code",
   "execution_count": 19,
   "metadata": {},
   "outputs": [
    {
     "name": "stdout",
     "output_type": "stream",
     "text": [
      "mean:  2284.536503566512\n",
      "median:  1849.2\n",
      "modus:  1051.9\n"
     ]
    }
   ],
   "source": [
    "# deskriptif, central tendency\n",
    "print('mean: ',df[\"Unit Price\"].mean())\n",
    "print('median: ', df[\"Unit Price\"].median())\n",
    "print('modus: ', df[\"Unit Price\"].mode().values[0])"
   ]
  },
  {
   "cell_type": "markdown",
   "metadata": {},
   "source": [
    "untuk berikutnya dilakukan perhitungan nilai tengah dari harga produk yang dijual. Pada kasus ini diketahui bahwa adanya data yang tidak terdistribusi secara simestris, dalam artian ada anomali data yang bernilai esktrem sehingga memperngaruhi nilai mean. Jadi nilai tengah yang merepresentasikan harga unit produk adalah median dengan harga USD $1849.2. Angka yang besar ini menunjukan bahwa customer perusahaan kita cukup konsumtif"
   ]
  },
  {
   "cell_type": "code",
   "execution_count": 83,
   "metadata": {},
   "outputs": [
    {
     "name": "stdout",
     "output_type": "stream",
     "text": [
      "Kecondongan grafik: 2.945252543810852e-05\n",
      "Penjualan minimal: 4.890362321379448\n",
      "Penjualan maksimal: 5.109637678620552\n"
     ]
    }
   ],
   "source": [
    "data_in_store = df[df['Sales Channel'] == 'In-Store']\n",
    "skewness_penjualan = data_in_store['Order Quantity'].skew()\n",
    "\n",
    "print(f'Kecondongan grafik: {skewness_penjualan}')\n",
    "\n",
    "N = len(data_in_store)\n",
    "Median = df['Order Quantity'].median()\n",
    "q3 = df['Order Quantity'].quantile(0.75)\n",
    "q1 = df['Order Quantity'].quantile(0.25)\n",
    "IQR = q3 - q1\n",
    "\n",
    "Upper = Median + 1.7 * (1.25*IQR / (1.35*sqrt(N)))\n",
    "Lower = Median - 1.7 * (1.25*IQR / (1.35*sqrt(N)))\n",
    "\n",
    "print(f'Penjualan minimal: {Lower}')\n",
    "print(f'Penjualan maksimal: {Upper}')"
   ]
  },
  {
   "cell_type": "markdown",
   "metadata": {},
   "source": [
    "Hasil perhitungan potensi minimum dan maksimum banyak nya produk yang dibeli costumer cenderung mendekati angka bulat 5. Informasi tersebut menunjukan bahwa potensi customer untuk membeli produk adalah 5 produk dalam 1 kali transaksi."
   ]
  },
  {
   "cell_type": "code",
   "execution_count": 96,
   "metadata": {},
   "outputs": [
    {
     "data": {
      "text/plain": [
       "'rho-correlation: -0.01, p-value: 0.19566725015503453'"
      ]
     },
     "execution_count": 96,
     "metadata": {},
     "output_type": "execute_result"
    }
   ],
   "source": [
    "corr_rho, pval_s = stats.spearmanr(df['Order Quantity'], df['Discount Applied'])\n",
    "\n",
    "(f\"rho-correlation: {corr_rho:.2f}, p-value: {pval_s}\")"
   ]
  },
  {
   "cell_type": "markdown",
   "metadata": {},
   "source": [
    "Nilai dari p menunjukan angka di 0.19 yang jauh lebih besar daripada 0.05 menandakan bahwa ada suatu efek yang sangat kecil dari diskon yang diberikan terhadap jumlah item yang berhasil dijual. Hal tersebut dijelaskan pada nilai rho -0.01, jika diskon sedikit maka customer akan beli lebih sedikit produk dari retail kita."
   ]
  },
  {
   "cell_type": "code",
   "execution_count": 23,
   "metadata": {},
   "outputs": [
    {
     "name": "stderr",
     "output_type": "stream",
     "text": [
      "/Users/vincenttanjaya/anaconda3/lib/python3.11/site-packages/seaborn/axisgrid.py:118: UserWarning: The figure layout has changed to tight\n",
      "  self._figure.tight_layout(*args, **kwargs)\n"
     ]
    },
    {
     "data": {
      "text/plain": [
       "<seaborn.axisgrid.FacetGrid at 0x1473fb110>"
      ]
     },
     "execution_count": 23,
     "metadata": {},
     "output_type": "execute_result"
    },
    {
     "data": {
      "image/png": "[encoded data removed]",
      "text/plain": [
       "<Figure size 500x500 with 1 Axes>"
      ]
     },
     "metadata": {},
     "output_type": "display_data"
    }
   ],
   "source": [
    "sns.lmplot(data=df,x='Discount Applied', y='Order Quantity')"
   ]
  },
  {
   "cell_type": "markdown",
   "metadata": {},
   "source": [
    "Dari grafik pun juga diperlihatkan garis yang menyatakan efek diskon terhadap jumlah pejualan produk yang sangat tipis. dalam arti tidak bepengaruh signifikan "
   ]
  },
  {
   "cell_type": "markdown",
   "metadata": {},
   "source": [
    "LINK DASHBOARD:\n",
    "\n",
    "https://public.tableau.com/app/profile/elia.oktaviani/viz/Milestone1EliaOktaviani/Dashboard1?publish=yes"
   ]
  },
  {
   "cell_type": "markdown",
   "metadata": {},
   "source": [
    "# Kesimpulan\n",
    "\n",
    "Berdasarkan hasil data analisis dapat disimpulkan bahwa cutomer yang membeli produk di perusahaan kita adalah pelanggan tetap dengan loyalitas yang tinggi dengan retention rate di angka 100% (sudah melebihi terget) dan churn rate 0.0.\n",
    "\n",
    "Karakteristik loyal tersebut dapat dilihat dari retention rate yang sempurna 100% dan churn rate yang sempurna 0.0. Selain itu nilai potensi pembelian langsung 5 produk dari 1 kali transasksi. Perilaku customer kita lebih suka untuk berbelanja langsung untuk membeli barang kita, serta efek diskon hanya memberi efek yang sangat kecil terhadap jumlah pembelian produk\n",
    "\n",
    "Namun, untuk ke depannya disarankan melakukan mengembangan target pasar agar dapat menjangkau customer baru (belum ada di tahun 2020)."
   ]
  }
 ],
 "metadata": {
  "kernelspec": {
   "display_name": "Python 3",
   "language": "python",
   "name": "python3"
  },
  "language_info": {
   "codemirror_mode": {
    "name": "ipython",
    "version": 3
   },
   "file_extension": ".py",
   "mimetype": "text/x-python",
   "name": "python",
   "nbconvert_exporter": "python",
   "pygments_lexer": "ipython3",
   "version": "3.11.5"
  }
 },
 "nbformat": 4,
 "nbformat_minor": 2
}
